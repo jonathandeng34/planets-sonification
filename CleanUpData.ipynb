{
  "nbformat": 4,
  "nbformat_minor": 0,
  "metadata": {
    "colab": {
      "provenance": [],
      "include_colab_link": true
    },
    "kernelspec": {
      "name": "python3",
      "display_name": "Python 3"
    },
    "language_info": {
      "name": "python"
    }
  },
  "cells": [
    {
      "cell_type": "markdown",
      "metadata": {
        "id": "view-in-github",
        "colab_type": "text"
      },
      "source": [
        "<a href=\"https://colab.research.google.com/github/jonathandeng34/planets-sonification/blob/main/CleanUpData.ipynb\" target=\"_parent\"><img src=\"https://colab.research.google.com/assets/colab-badge.svg\" alt=\"Open In Colab\"/></a>"
      ]
    },
    {
      "cell_type": "code",
      "execution_count": null,
      "metadata": {
        "id": "e800nFpfXzdn",
        "colab": {
          "base_uri": "https://localhost:8080/"
        },
        "outputId": "c5364643-3218-4352-9336-eaca30c7120b"
      },
      "outputs": [
        {
          "output_type": "stream",
          "name": "stdout",
          "text": [
            "Mounted at /content/drive\n",
            "/content/drive/.shortcut-targets-by-id/1PDnIjiK7yoLiwkK-Ib4mbesEJwfUSMzu/NASA Working Folder\n"
          ]
        }
      ],
      "source": [
        "from google.colab import drive\n",
        "drive.mount('/content/drive')\n",
        "%cd \"/content/drive/My Drive/NASA Working Folder\""
      ]
    },
    {
      "cell_type": "code",
      "source": [
        "import numpy as np"
      ],
      "metadata": {
        "id": "PPE2U-elZIne"
      },
      "execution_count": null,
      "outputs": []
    },
    {
      "cell_type": "code",
      "source": [
        "def load_file(filename):\n",
        "  data = np.loadtxt(filename, skiprows=1)\n",
        "  data[np.where(data < 0)] = 0\n",
        "  return np.flipud(data)\n",
        "\n",
        "pretty_print = lambda x: np.format_float_positional(x, trim=\"-\")\n",
        "def save_file(data, filename):\n",
        "  with open(filename, 'w') as f:\n",
        "    for d in data:\n",
        "      f.write(pretty_print(d) + \"\\n\")"
      ],
      "metadata": {
        "id": "oZTg2W_fZTME"
      },
      "execution_count": null,
      "outputs": []
    },
    {
      "cell_type": "code",
      "source": [
        "filenames = ['Kaolinite.txt',\n",
        "             'Kaolinite_1.5.txt',\n",
        "             'Kieserite.txt',\n",
        "             'Kieserite_1.5.txt',\n",
        "             'Magnesite.txt',\n",
        "             'Magnesite_1.5.txt',\n",
        "             'Nontronite.txt',\n",
        "             'Nontronite_1.5.txt',\n",
        "             'Olivine.txt',\n",
        "             'Olivine_1.5.txt',\n",
        "             'Pyroxene.txt',\n",
        "             'Pyroxene_1.5.txt']\n",
        "\n",
        "for filename in filenames:\n",
        "  data = load_file('data2/' + filename)\n",
        "  parts = filename.split('.')\n",
        "  out_filename = 'data2/' + '.'.join(parts[:-1]) + '_clean.' + parts[-1]\n",
        "  print(out_filename)\n",
        "  save_file(data, out_filename)"
      ],
      "metadata": {
        "colab": {
          "base_uri": "https://localhost:8080/"
        },
        "id": "n3iUuwGUZgGm",
        "outputId": "a9b47f7a-97d5-4df2-f832-d88434974076"
      },
      "execution_count": null,
      "outputs": [
        {
          "output_type": "stream",
          "name": "stdout",
          "text": [
            "data2/Kaolinite_clean.txt\n",
            "data2/Kaolinite_1.5_clean.txt\n",
            "data2/Kieserite_clean.txt\n",
            "data2/Kieserite_1.5_clean.txt\n",
            "data2/Magnesite_clean.txt\n",
            "data2/Magnesite_1.5_clean.txt\n",
            "data2/Nontronite_clean.txt\n",
            "data2/Nontronite_1.5_clean.txt\n",
            "data2/Olivine_clean.txt\n",
            "data2/Olivine_1.5_clean.txt\n",
            "data2/Pyroxene_clean.txt\n",
            "data2/Pyroxene_1.5_clean.txt\n"
          ]
        }
      ]
    }
  ]
}